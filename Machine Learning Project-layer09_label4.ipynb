{
 "cells": [
  {
   "cell_type": "markdown",
   "id": "49a43187",
   "metadata": {
    "id": "82755dfe"
   },
   "source": [
    "Import Libraries"
   ]
  },
  {
   "cell_type": "code",
   "execution_count": 1,
   "id": "7e4eb23b",
   "metadata": {
    "executionInfo": {
     "elapsed": 2,
     "status": "ok",
     "timestamp": 1695299521916,
     "user": {
      "displayName": "Supun Dasanayaka",
      "userId": "08121921810036864211"
     },
     "user_tz": -330
    },
    "id": "ef5074bf"
   },
   "outputs": [],
   "source": [
    "import numpy as np\n",
    "import matplotlib.pyplot as plt\n",
    "import pandas as pd\n",
    "from sklearn.ensemble import RandomForestClassifier\n",
    "from sklearn.metrics import accuracy_score\n",
    "from sklearn.decomposition import PCA\n",
    "from sklearn.preprocessing import StandardScaler\n",
    "from sklearn.preprocessing import RobustScaler\n",
    "from sklearn.model_selection import RandomizedSearchCV\n",
    "from scipy.stats import randint\n",
    "from sklearn.model_selection import GridSearchCV"
   ]
  },
  {
   "cell_type": "code",
   "execution_count": 2,
   "id": "eba7d1f1",
   "metadata": {
    "executionInfo": {
     "elapsed": 3,
     "status": "ok",
     "timestamp": 1695299521917,
     "user": {
      "displayName": "Supun Dasanayaka",
      "userId": "08121921810036864211"
     },
     "user_tz": -330
    },
    "id": "9c52b8f1"
   },
   "outputs": [],
   "source": [
    "def plot_data(X,y,ax,title):\n",
    "    ax.scatter(X[:, 0], X[:, 1], c=y, alpha=0.5, s = 30, edgecolor=(0,0,0,0.5))\n",
    "    ax.set_ylabel('Principle Component 1')\n",
    "    ax.set_xlabel('Principle Component 2')\n",
    "    if title is not None:\n",
    "        ax.set_title(title)"
   ]
  },
  {
   "cell_type": "markdown",
   "id": "653e20be",
   "metadata": {
    "id": "c2590291"
   },
   "source": [
    "Define layer name"
   ]
  },
  {
   "cell_type": "code",
   "execution_count": 3,
   "id": "c9ad3fcb",
   "metadata": {
    "executionInfo": {
     "elapsed": 3,
     "status": "ok",
     "timestamp": 1695299521917,
     "user": {
      "displayName": "Supun Dasanayaka",
      "userId": "08121921810036864211"
     },
     "user_tz": -330
    },
    "id": "07fe4a96"
   },
   "outputs": [],
   "source": [
    "folder_name = 'label_09'"
   ]
  },
  {
   "cell_type": "markdown",
   "id": "300f06e8",
   "metadata": {
    "id": "f8574717"
   },
   "source": [
    "Label 01"
   ]
  },
  {
   "cell_type": "code",
   "execution_count": 4,
   "id": "86b7dd45",
   "metadata": {
    "colab": {
     "base_uri": "https://localhost:8080/"
    },
    "executionInfo": {
     "elapsed": 9877,
     "status": "ok",
     "timestamp": 1695299531791,
     "user": {
      "displayName": "Supun Dasanayaka",
      "userId": "08121921810036864211"
     },
     "user_tz": -330
    },
    "id": "80564a23",
    "outputId": "fd97273a-cc6b-42db-fdf4-1982a1408f85"
   },
   "outputs": [
    {
     "data": {
      "text/plain": [
       "(28520, 769)"
      ]
     },
     "execution_count": 4,
     "metadata": {},
     "output_type": "execute_result"
    }
   ],
   "source": [
    "cols = list(pd.read_csv(f\"{folder_name}/train.csv\", nrows=1))\n",
    "train_data = pd.read_csv(f\"{folder_name}/train.csv\",usecols =[i for i in cols if i not in [\"label_1\", \"label_3\", \"label_2\"]])\n",
    "train_data.shape"
   ]
  },
  {
   "cell_type": "markdown",
   "id": "15cb232f",
   "metadata": {
    "id": "ff09cc44"
   },
   "source": [
    "Handling missing values"
   ]
  },
  {
   "cell_type": "code",
   "execution_count": 5,
   "id": "3fd2033a",
   "metadata": {
    "colab": {
     "base_uri": "https://localhost:8080/",
     "height": 274
    },
    "executionInfo": {
     "elapsed": 14,
     "status": "ok",
     "timestamp": 1695299531792,
     "user": {
      "displayName": "Supun Dasanayaka",
      "userId": "08121921810036864211"
     },
     "user_tz": -330
    },
    "id": "e47955ce",
    "outputId": "0da9f89b-745c-416b-eee0-805c285ef76f"
   },
   "outputs": [
    {
     "name": "stdout",
     "output_type": "stream",
     "text": [
      "(28520, 769)\n"
     ]
    },
    {
     "data": {
      "text/html": [
       "<div>\n",
       "<style scoped>\n",
       "    .dataframe tbody tr th:only-of-type {\n",
       "        vertical-align: middle;\n",
       "    }\n",
       "\n",
       "    .dataframe tbody tr th {\n",
       "        vertical-align: top;\n",
       "    }\n",
       "\n",
       "    .dataframe thead th {\n",
       "        text-align: right;\n",
       "    }\n",
       "</style>\n",
       "<table border=\"1\" class=\"dataframe\">\n",
       "  <thead>\n",
       "    <tr style=\"text-align: right;\">\n",
       "      <th></th>\n",
       "      <th>feature_1</th>\n",
       "      <th>feature_2</th>\n",
       "      <th>feature_3</th>\n",
       "      <th>feature_4</th>\n",
       "      <th>feature_5</th>\n",
       "      <th>feature_6</th>\n",
       "      <th>feature_7</th>\n",
       "      <th>feature_8</th>\n",
       "      <th>feature_9</th>\n",
       "      <th>feature_10</th>\n",
       "      <th>...</th>\n",
       "      <th>feature_760</th>\n",
       "      <th>feature_761</th>\n",
       "      <th>feature_762</th>\n",
       "      <th>feature_763</th>\n",
       "      <th>feature_764</th>\n",
       "      <th>feature_765</th>\n",
       "      <th>feature_766</th>\n",
       "      <th>feature_767</th>\n",
       "      <th>feature_768</th>\n",
       "      <th>label_4</th>\n",
       "    </tr>\n",
       "  </thead>\n",
       "  <tbody>\n",
       "    <tr>\n",
       "      <th>0</th>\n",
       "      <td>0.019301</td>\n",
       "      <td>0.059756</td>\n",
       "      <td>0.081375</td>\n",
       "      <td>0.057481</td>\n",
       "      <td>-0.068440</td>\n",
       "      <td>-0.165913</td>\n",
       "      <td>0.035643</td>\n",
       "      <td>-0.091138</td>\n",
       "      <td>0.021688</td>\n",
       "      <td>0.057158</td>\n",
       "      <td>...</td>\n",
       "      <td>0.124449</td>\n",
       "      <td>0.124765</td>\n",
       "      <td>-0.235671</td>\n",
       "      <td>-0.035576</td>\n",
       "      <td>0.127319</td>\n",
       "      <td>0.098128</td>\n",
       "      <td>-0.058787</td>\n",
       "      <td>0.100971</td>\n",
       "      <td>-0.047754</td>\n",
       "      <td>6</td>\n",
       "    </tr>\n",
       "    <tr>\n",
       "      <th>1</th>\n",
       "      <td>0.049741</td>\n",
       "      <td>0.090030</td>\n",
       "      <td>0.035118</td>\n",
       "      <td>-0.013676</td>\n",
       "      <td>-0.194317</td>\n",
       "      <td>-0.101763</td>\n",
       "      <td>0.085875</td>\n",
       "      <td>-0.081317</td>\n",
       "      <td>0.112418</td>\n",
       "      <td>0.120523</td>\n",
       "      <td>...</td>\n",
       "      <td>0.186260</td>\n",
       "      <td>0.085101</td>\n",
       "      <td>-0.365903</td>\n",
       "      <td>0.020538</td>\n",
       "      <td>0.058968</td>\n",
       "      <td>0.029803</td>\n",
       "      <td>0.111324</td>\n",
       "      <td>0.036727</td>\n",
       "      <td>0.031927</td>\n",
       "      <td>6</td>\n",
       "    </tr>\n",
       "    <tr>\n",
       "      <th>2</th>\n",
       "      <td>0.019212</td>\n",
       "      <td>0.087779</td>\n",
       "      <td>0.093907</td>\n",
       "      <td>-0.033738</td>\n",
       "      <td>-0.141409</td>\n",
       "      <td>-0.062881</td>\n",
       "      <td>-0.071402</td>\n",
       "      <td>-0.006599</td>\n",
       "      <td>0.020372</td>\n",
       "      <td>-0.027777</td>\n",
       "      <td>...</td>\n",
       "      <td>0.019542</td>\n",
       "      <td>0.144256</td>\n",
       "      <td>-0.123374</td>\n",
       "      <td>0.119645</td>\n",
       "      <td>-0.040861</td>\n",
       "      <td>0.000548</td>\n",
       "      <td>-0.061003</td>\n",
       "      <td>-0.042450</td>\n",
       "      <td>0.063340</td>\n",
       "      <td>6</td>\n",
       "    </tr>\n",
       "    <tr>\n",
       "      <th>3</th>\n",
       "      <td>0.070283</td>\n",
       "      <td>0.049040</td>\n",
       "      <td>0.042126</td>\n",
       "      <td>0.122637</td>\n",
       "      <td>-0.056964</td>\n",
       "      <td>-0.113700</td>\n",
       "      <td>0.108454</td>\n",
       "      <td>0.051336</td>\n",
       "      <td>0.086610</td>\n",
       "      <td>0.141578</td>\n",
       "      <td>...</td>\n",
       "      <td>0.117235</td>\n",
       "      <td>-0.038984</td>\n",
       "      <td>-0.028714</td>\n",
       "      <td>-0.124494</td>\n",
       "      <td>-0.169225</td>\n",
       "      <td>-0.046391</td>\n",
       "      <td>0.148787</td>\n",
       "      <td>0.014616</td>\n",
       "      <td>-0.140644</td>\n",
       "      <td>6</td>\n",
       "    </tr>\n",
       "    <tr>\n",
       "      <th>4</th>\n",
       "      <td>0.028864</td>\n",
       "      <td>0.165634</td>\n",
       "      <td>0.016302</td>\n",
       "      <td>0.036117</td>\n",
       "      <td>-0.028871</td>\n",
       "      <td>-0.147748</td>\n",
       "      <td>0.053180</td>\n",
       "      <td>0.025071</td>\n",
       "      <td>-0.004200</td>\n",
       "      <td>-0.022183</td>\n",
       "      <td>...</td>\n",
       "      <td>0.029716</td>\n",
       "      <td>0.077643</td>\n",
       "      <td>-0.182132</td>\n",
       "      <td>-0.124862</td>\n",
       "      <td>0.044907</td>\n",
       "      <td>0.084005</td>\n",
       "      <td>-0.038450</td>\n",
       "      <td>0.084371</td>\n",
       "      <td>-0.072146</td>\n",
       "      <td>6</td>\n",
       "    </tr>\n",
       "  </tbody>\n",
       "</table>\n",
       "<p>5 rows × 769 columns</p>\n",
       "</div>"
      ],
      "text/plain": [
       "   feature_1  feature_2  feature_3  feature_4  feature_5  feature_6  \\\n",
       "0   0.019301   0.059756   0.081375   0.057481  -0.068440  -0.165913   \n",
       "1   0.049741   0.090030   0.035118  -0.013676  -0.194317  -0.101763   \n",
       "2   0.019212   0.087779   0.093907  -0.033738  -0.141409  -0.062881   \n",
       "3   0.070283   0.049040   0.042126   0.122637  -0.056964  -0.113700   \n",
       "4   0.028864   0.165634   0.016302   0.036117  -0.028871  -0.147748   \n",
       "\n",
       "   feature_7  feature_8  feature_9  feature_10  ...  feature_760  feature_761  \\\n",
       "0   0.035643  -0.091138   0.021688    0.057158  ...     0.124449     0.124765   \n",
       "1   0.085875  -0.081317   0.112418    0.120523  ...     0.186260     0.085101   \n",
       "2  -0.071402  -0.006599   0.020372   -0.027777  ...     0.019542     0.144256   \n",
       "3   0.108454   0.051336   0.086610    0.141578  ...     0.117235    -0.038984   \n",
       "4   0.053180   0.025071  -0.004200   -0.022183  ...     0.029716     0.077643   \n",
       "\n",
       "   feature_762  feature_763  feature_764  feature_765  feature_766  \\\n",
       "0    -0.235671    -0.035576     0.127319     0.098128    -0.058787   \n",
       "1    -0.365903     0.020538     0.058968     0.029803     0.111324   \n",
       "2    -0.123374     0.119645    -0.040861     0.000548    -0.061003   \n",
       "3    -0.028714    -0.124494    -0.169225    -0.046391     0.148787   \n",
       "4    -0.182132    -0.124862     0.044907     0.084005    -0.038450   \n",
       "\n",
       "   feature_767  feature_768  label_4  \n",
       "0     0.100971    -0.047754        6  \n",
       "1     0.036727     0.031927        6  \n",
       "2    -0.042450     0.063340        6  \n",
       "3     0.014616    -0.140644        6  \n",
       "4     0.084371    -0.072146        6  \n",
       "\n",
       "[5 rows x 769 columns]"
      ]
     },
     "execution_count": 5,
     "metadata": {},
     "output_type": "execute_result"
    }
   ],
   "source": [
    "train_data = train_data.dropna()\n",
    "print(train_data.shape)\n",
    "train_data.head()"
   ]
  },
  {
   "cell_type": "markdown",
   "id": "485f5541",
   "metadata": {
    "id": "813ec691"
   },
   "source": [
    "numbers of missing values neglegible"
   ]
  },
  {
   "cell_type": "markdown",
   "id": "4680fa06",
   "metadata": {
    "id": "bbd0661b"
   },
   "source": [
    "Import test data set"
   ]
  },
  {
   "cell_type": "code",
   "execution_count": 6,
   "id": "2e4036e8",
   "metadata": {
    "colab": {
     "base_uri": "https://localhost:8080/"
    },
    "executionInfo": {
     "elapsed": 11,
     "status": "ok",
     "timestamp": 1695299531792,
     "user": {
      "displayName": "Supun Dasanayaka",
      "userId": "08121921810036864211"
     },
     "user_tz": -330
    },
    "id": "65ae7f8f",
    "outputId": "6d178e9f-35fc-40b9-ddc0-6b036f1d71a2"
   },
   "outputs": [
    {
     "data": {
      "text/plain": [
       "(750, 769)"
      ]
     },
     "execution_count": 6,
     "metadata": {},
     "output_type": "execute_result"
    }
   ],
   "source": [
    "cols = list(pd.read_csv(f\"{folder_name}/valid.csv\", nrows=1))\n",
    "valid_data = pd.read_csv(f\"{folder_name}/valid.csv\",usecols =[i for i in cols if i not in [\"label_1\", \"label_3\", \"label_2\"]])\n",
    "valid_data.shape"
   ]
  },
  {
   "cell_type": "markdown",
   "id": "56be6616",
   "metadata": {
    "id": "980c1f32"
   },
   "source": [
    "Handling missing values"
   ]
  },
  {
   "cell_type": "code",
   "execution_count": 7,
   "id": "37471391",
   "metadata": {
    "colab": {
     "base_uri": "https://localhost:8080/"
    },
    "executionInfo": {
     "elapsed": 718,
     "status": "ok",
     "timestamp": 1695299532501,
     "user": {
      "displayName": "Supun Dasanayaka",
      "userId": "08121921810036864211"
     },
     "user_tz": -330
    },
    "id": "e381c5e0",
    "outputId": "54f01c33-87d1-4a17-b4e9-bf1d86e22e5f"
   },
   "outputs": [
    {
     "data": {
      "text/plain": [
       "(750, 769)"
      ]
     },
     "execution_count": 7,
     "metadata": {},
     "output_type": "execute_result"
    }
   ],
   "source": [
    "valid_data = valid_data.dropna()\n",
    "valid_data.shape"
   ]
  },
  {
   "cell_type": "code",
   "execution_count": 8,
   "id": "e4cf13ca",
   "metadata": {
    "executionInfo": {
     "elapsed": 7,
     "status": "ok",
     "timestamp": 1695299532502,
     "user": {
      "displayName": "Supun Dasanayaka",
      "userId": "08121921810036864211"
     },
     "user_tz": -330
    },
    "id": "aee15a36"
   },
   "outputs": [],
   "source": [
    "#features\n",
    "X_train = train_data.iloc[:,:-1]\n",
    "Y_train = train_data.iloc[:,-1]\n",
    "X_valid = valid_data.iloc[:,:-1]\n",
    "Y_valid = valid_data.iloc[:,-1]"
   ]
  },
  {
   "cell_type": "markdown",
   "id": "de9618ad",
   "metadata": {
    "id": "863c3491"
   },
   "source": [
    "Standarization"
   ]
  },
  {
   "cell_type": "code",
   "execution_count": 9,
   "id": "d14ebc26",
   "metadata": {
    "executionInfo": {
     "elapsed": 622,
     "status": "ok",
     "timestamp": 1695299533117,
     "user": {
      "displayName": "Supun Dasanayaka",
      "userId": "08121921810036864211"
     },
     "user_tz": -330
    },
    "id": "b38cdd9a"
   },
   "outputs": [],
   "source": [
    "robust_scaler = RobustScaler()\n",
    "robust_scaler.fit(X_train)\n",
    "\n",
    "X_train_scaler = robust_scaler.transform(X_train)\n",
    "X_valid_scaler = robust_scaler.transform(X_valid)"
   ]
  },
  {
   "cell_type": "markdown",
   "id": "760d3afe",
   "metadata": {
    "id": "1b7ec879"
   },
   "source": [
    "Dimensionality reduction"
   ]
  },
  {
   "cell_type": "code",
   "execution_count": 10,
   "id": "91828b6c",
   "metadata": {
    "colab": {
     "base_uri": "https://localhost:8080/"
    },
    "executionInfo": {
     "elapsed": 3898,
     "status": "ok",
     "timestamp": 1695299537013,
     "user": {
      "displayName": "Supun Dasanayaka",
      "userId": "08121921810036864211"
     },
     "user_tz": -330
    },
    "id": "71be7134",
    "outputId": "b306ad85-c707-4181-c466-9de511fd6c72"
   },
   "outputs": [
    {
     "data": {
      "text/plain": [
       "(28520, 466)"
      ]
     },
     "execution_count": 10,
     "metadata": {},
     "output_type": "execute_result"
    }
   ],
   "source": [
    "pca = PCA(0.98)\n",
    "pca = pca.fit(X_train_scaler)\n",
    "\n",
    "X_train_pca = pca.transform(X_train_scaler)\n",
    "X_valid_pca = pca.transform(X_valid_scaler)\n",
    "X_train_pca.shape"
   ]
  },
  {
   "cell_type": "markdown",
   "id": "e3e593b2",
   "metadata": {
    "id": "39c0abdd"
   },
   "source": [
    "oversampling and undersampling"
   ]
  },
  {
   "cell_type": "code",
   "execution_count": 11,
   "id": "cbb80bdc",
   "metadata": {
    "colab": {
     "base_uri": "https://localhost:8080/",
     "height": 474
    },
    "executionInfo": {
     "elapsed": 525,
     "status": "ok",
     "timestamp": 1695299537525,
     "user": {
      "displayName": "Supun Dasanayaka",
      "userId": "08121921810036864211"
     },
     "user_tz": -330
    },
    "id": "65e24394",
    "outputId": "236d88ce-60f5-46de-bf22-374d17763006"
   },
   "outputs": [
    {
     "data": {
      "text/plain": [
       "<Axes: title={'center': 'Count of Label_2'}>"
      ]
     },
     "execution_count": 11,
     "metadata": {},
     "output_type": "execute_result"
    },
    {
     "data": {
      "image/png": "[encoded data removed]",
      "text/plain": [
       "<Figure size 640x480 with 1 Axes>"
      ]
     },
     "metadata": {},
     "output_type": "display_data"
    }
   ],
   "source": [
    "train_data['label_4'].value_counts().plot(kind='bar',title='Count of Label_2')"
   ]
  },
  {
   "cell_type": "code",
   "execution_count": null,
   "id": "0941110d",
   "metadata": {
    "colab": {
     "background_save": true,
     "base_uri": "https://localhost:8080/"
    },
    "id": "2d2add0b"
   },
   "outputs": [],
   "source": [
    "from imblearn.combine import SMOTETomek\n",
    "import matplotlib.pyplot as plt\n",
    "# Perform random sampling\n",
    "smotetomek = SMOTETomek(random_state=0)\n",
    "X_train_smt, Y_train_smt = smotetomek.fit_resample(X_train_pca, Y_train)\n",
    "fig,ax = plt.subplots(figsize=(5, 5))\n",
    "plot_data(X_train_smt, Y_train_smt, ax, title='Unbaised Dataset')\n",
    "print(X_train_smt.shape)"
   ]
  },
  {
   "cell_type": "markdown",
   "id": "a6df8f14",
   "metadata": {},
   "source": [
    "Cross validation"
   ]
  },
  {
   "cell_type": "code",
   "execution_count": 11,
   "id": "a3009a08",
   "metadata": {},
   "outputs": [
    {
     "name": "stdout",
     "output_type": "stream",
     "text": [
      "Cross-Validation Scores for SVC: [0.8286115  0.81921459]\n",
      "Mean Accuracy: 0.8239130434782609\n",
      "Cross-Validation Scores for Random Forest: [0.72019635 0.71914446]\n",
      "Mean Accuracy: 0.7196704067321178\n",
      "Cross-Validation Scores for KNN: [0.77580645 0.73730715]\n",
      "Mean Accuracy: 0.7565568022440392\n"
     ]
    }
   ],
   "source": [
    "from sklearn.model_selection import cross_val_score\n",
    "\n",
    "from sklearn.svm import SVC\n",
    "svc_init = SVC()\n",
    "svc_scores = cross_val_score(svc_init, X_train_scaler, Y_train, cv=2) \n",
    "print(\"Cross-Validation Scores for SVC:\", svc_scores)\n",
    "print(\"Mean Accuracy:\", svc_scores.mean())\n",
    "\n",
    "from sklearn.ensemble import RandomForestClassifier\n",
    "rf_init = RandomForestClassifier()\n",
    "rf_scores = cross_val_score(rf_init, X_train_scaler, Y_train, cv=2)\n",
    "print(\"Cross-Validation Scores for Random Forest:\", rf_scores)\n",
    "print(\"Mean Accuracy:\", rf_scores.mean())\n",
    "\n",
    "from sklearn.neighbors import KNeighborsClassifier\n",
    "knn_init = KNeighborsClassifier()\n",
    "knn_scores = cross_val_score(knn_init, X_train_scaler, Y_train, cv=2)\n",
    "print(\"Cross-Validation Scores for KNN:\", knn_scores)\n",
    "print(\"Mean Accuracy:\", knn_scores.mean())"
   ]
  },
  {
   "cell_type": "markdown",
   "id": "51900a96",
   "metadata": {
    "id": "c2078540"
   },
   "source": [
    "Using SVC"
   ]
  },
  {
   "cell_type": "code",
   "execution_count": 13,
   "id": "38687498",
   "metadata": {
    "colab": {
     "background_save": true
    },
    "id": "3cad74a8"
   },
   "outputs": [],
   "source": [
    "from sklearn.svm import SVC"
   ]
  },
  {
   "cell_type": "code",
   "execution_count": 14,
   "id": "306e75d5",
   "metadata": {
    "colab": {
     "background_save": true
    },
    "id": "383b13b5"
   },
   "outputs": [
    {
     "data": {
      "text/plain": [
       "0.9573333333333334"
      ]
     },
     "execution_count": 14,
     "metadata": {},
     "output_type": "execute_result"
    }
   ],
   "source": [
    "svc_init = SVC()\n",
    "svc_init.fit(X_train_scaler,Y_train)\n",
    "svc_predicted = svc_init.predict(X_valid_scaler)\n",
    "accuracy_score(Y_valid,svc_predicted)"
   ]
  },
  {
   "cell_type": "markdown",
   "id": "49af3d2f",
   "metadata": {
    "id": "f0ea2854"
   },
   "source": [
    "After feature engineering"
   ]
  },
  {
   "cell_type": "code",
   "execution_count": 15,
   "id": "f41472aa",
   "metadata": {
    "id": "c383f513"
   },
   "outputs": [
    {
     "data": {
      "text/plain": [
       "0.9746666666666667"
      ]
     },
     "execution_count": 15,
     "metadata": {},
     "output_type": "execute_result"
    }
   ],
   "source": [
    "svc = SVC()\n",
    "svc.fit(X_train_smt, Y_train_smt)\n",
    "svc_predicted = svc.predict(X_valid_pca)\n",
    "accuracy_score(Y_valid,svc_predicted)"
   ]
  },
  {
   "cell_type": "markdown",
   "id": "bd23394e",
   "metadata": {
    "id": "97eb6aba"
   },
   "source": [
    "Hyper Parameter tuning without dimentionality reduction"
   ]
  },
  {
   "cell_type": "code",
   "execution_count": null,
   "id": "984ad555",
   "metadata": {
    "id": "78b8303d"
   },
   "outputs": [],
   "source": [
    "cols = list(pd.read_csv(f\"drive/MyDrive/ML Project/test.csv\", nrows=1))\n",
    "test_data = pd.read_csv(f\"drive/MyDrive/ML Project/test.csv\",usecols =[i for i in cols if i not in [\"label_1\", \"label_3\", \"label_2\"]])\n",
    "#features\n",
    "X_test = test_data.iloc[:,1:]\n",
    "X_test.head()\n",
    "\n",
    "X_test_scaler = robust_scaler.transform(X_test)\n",
    "X_test_pca = pca.transform(X_test_scaler)\n",
    "\n",
    "grid_predictions = svc.predict(X_test_pca)\n",
    "grid_predictions"
   ]
  },
  {
   "cell_type": "code",
   "execution_count": null,
   "id": "b3685c1f",
   "metadata": {
    "id": "7Kvt45gWt11S"
   },
   "outputs": [],
   "source": [
    "size = grid_predictions.size\n",
    "index = []\n",
    "for i in range(size):\n",
    "    index.append(i+1)\n",
    "data = {\n",
    "    'ID': index,\n",
    "    'label_4': grid_predictions\n",
    "}\n",
    "df = pd.DataFrame(data)\n",
    "df.to_csv('drive/MyDrive/ML Project/0-4.csv', index=False)"
   ]
  },
  {
   "cell_type": "markdown",
   "id": "28f8cea7",
   "metadata": {},
   "source": [
    "Explainability"
   ]
  },
  {
   "cell_type": "code",
   "execution_count": 17,
   "id": "d2c28825",
   "metadata": {},
   "outputs": [
    {
     "data": {
      "image/png": "[encoded data removed]",
      "text/plain": [
       "<Figure size 640x480 with 1 Axes>"
      ]
     },
     "metadata": {},
     "output_type": "display_data"
    }
   ],
   "source": [
    "support_vectors = svc.support_vectors_\n",
    "plt.scatter(X_train_smt[:, 0], X_train_smt[:, 1], c='b', marker='.', label='All Data')\n",
    "plt.scatter(support_vectors[:, 0], support_vectors[:, 1], c='r', marker='x', label='Support Vectors')\n",
    "plt.xlabel('Feature 1')\n",
    "plt.ylabel('Feature 2')\n",
    "plt.legend()\n",
    "plt.show()"
   ]
  },
  {
   "cell_type": "code",
   "execution_count": 18,
   "id": "43a9948d",
   "metadata": {},
   "outputs": [
    {
     "name": "stdout",
     "output_type": "stream",
     "text": [
      "[[ 21   0   0   0   0   0   0   0   0   0   0   0   0   0]\n",
      " [  0  11   0   0   0   0   0   0   0   0   0   0   0   0]\n",
      " [  0   0  27   0   0   0   0   0   0   0   0   0   0   0]\n",
      " [  0   0   0   7   0   0   1   0   0   0   0   0   0   0]\n",
      " [  0   0   0   0  13   0   2   0   0   0   0   0   0   0]\n",
      " [  0   0   0   0   0  10   1   0   0   0   0   0   0   0]\n",
      " [  0   0   2   0   1   0 529   0   0   0   0   0   0   0]\n",
      " [  0   0   0   0   0   0   4  28   0   0   0   0   0   0]\n",
      " [  0   0   0   0   0   0   1   0  18   0   0   0   0   0]\n",
      " [  0   0   0   0   0   0   3   0   0  14   0   0   0   0]\n",
      " [  0   0   0   0   0   0   0   0   0   0  10   0   0   0]\n",
      " [  0   0   0   0   0   0   1   0   0   0   0  10   0   0]\n",
      " [  0   0   0   0   0   0   2   0   1   0   0   0  23   0]\n",
      " [  0   0   0   0   0   0   0   0   0   0   0   0   0  10]]\n"
     ]
    }
   ],
   "source": [
    "from sklearn.metrics import confusion_matrix\n",
    "confusion_matrix = confusion_matrix(Y_valid, svc_predicted)\n",
    "print(confusion_matrix)"
   ]
  },
  {
   "cell_type": "code",
   "execution_count": 19,
   "id": "dace4d8a",
   "metadata": {},
   "outputs": [
    {
     "name": "stdout",
     "output_type": "stream",
     "text": [
      "              precision    recall  f1-score   support\n",
      "\n",
      "           0       1.00      1.00      1.00        21\n",
      "           1       1.00      1.00      1.00        11\n",
      "           2       0.93      1.00      0.96        27\n",
      "           3       1.00      0.88      0.93         8\n",
      "           4       0.93      0.87      0.90        15\n",
      "           5       1.00      0.91      0.95        11\n",
      "           6       0.97      0.99      0.98       532\n",
      "           7       1.00      0.88      0.93        32\n",
      "           8       0.95      0.95      0.95        19\n",
      "           9       1.00      0.82      0.90        17\n",
      "          10       1.00      1.00      1.00        10\n",
      "          11       1.00      0.91      0.95        11\n",
      "          12       1.00      0.88      0.94        26\n",
      "          13       1.00      1.00      1.00        10\n",
      "\n",
      "    accuracy                           0.97       750\n",
      "   macro avg       0.98      0.93      0.96       750\n",
      "weighted avg       0.98      0.97      0.97       750\n",
      "\n"
     ]
    }
   ],
   "source": [
    "from sklearn.metrics import  classification_report\n",
    "class_report = classification_report(Y_valid, svc_predicted)\n",
    "print(class_report)"
   ]
  },
  {
   "cell_type": "markdown",
   "id": "a19a9bfc",
   "metadata": {},
   "source": [
    "Correlation between features"
   ]
  },
  {
   "cell_type": "code",
   "execution_count": 24,
   "id": "1fac9e60",
   "metadata": {},
   "outputs": [
    {
     "data": {
      "text/plain": [
       "array([[ 1.        ,  0.02386144,  0.0028178 , ..., -0.02575404,\n",
       "        -0.02446309, -0.03563199],\n",
       "       [ 0.02386144,  1.        , -0.00469062, ...,  0.00921681,\n",
       "        -0.00701026,  0.03397139],\n",
       "       [ 0.0028178 , -0.00469062,  1.        , ...,  0.02964411,\n",
       "         0.04328645,  0.03188085],\n",
       "       ...,\n",
       "       [-0.02575404,  0.00921681,  0.02964411, ...,  1.        ,\n",
       "        -0.00240384,  0.00372305],\n",
       "       [-0.02446309, -0.00701026,  0.04328645, ..., -0.00240384,\n",
       "         1.        ,  0.02576481],\n",
       "       [-0.03563199,  0.03397139,  0.03188085, ...,  0.00372305,\n",
       "         0.02576481,  1.        ]])"
      ]
     },
     "execution_count": 24,
     "metadata": {},
     "output_type": "execute_result"
    }
   ],
   "source": [
    "np.corrcoef(X_train_smt,rowvar=False)"
   ]
  }
 ],
 "metadata": {
  "colab": {
   "name": "",
   "version": ""
  },
  "kernelspec": {
   "display_name": "Python 3 (ipykernel)",
   "language": "python",
   "name": "python3"
  },
  "language_info": {
   "codemirror_mode": {
    "name": "ipython",
    "version": 3
   },
   "file_extension": ".py",
   "mimetype": "text/x-python",
   "name": "python",
   "nbconvert_exporter": "python",
   "pygments_lexer": "ipython3",
   "version": "3.11.3"
  }
 },
 "nbformat": 4,
 "nbformat_minor": 5
}
